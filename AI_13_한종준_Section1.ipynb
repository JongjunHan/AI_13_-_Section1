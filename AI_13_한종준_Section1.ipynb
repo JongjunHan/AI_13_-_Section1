{
  "nbformat": 4,
  "nbformat_minor": 0,
  "metadata": {
    "colab": {
      "name": "AI13_한종준_Project1.ipynb",
      "private_outputs": true,
      "provenance": []
    },
    "kernelspec": {
      "name": "python3",
      "display_name": "Python 3"
    },
    "language_info": {
      "name": "python"
    }
  },
  "cells": [
    {
      "cell_type": "markdown",
      "source": [
        "# Data Description\n",
        "\n",
        "\n",
        "Data url =https://ds-lecture-data.s3.ap-northeast-2.amazonaws.com/datasets/vgames2.csv\n",
        "\n",
        "*Name : 게임의 이름입니다.*\n",
        "\n",
        "*Platform : 게임이 지원되는 플랫폼의 이름입니다.*\n",
        "\n",
        "*Year : 게임이 출시된 연도입니다.*\n",
        "\n",
        "*Genre : 게임의 장르입니다.*\n",
        "\n",
        "*Publisher : 게임을 제작한 회사입니다.*\n",
        "\n",
        "*NA_Sales : 북미지역에서의 출고량입니다.*\n",
        "\n",
        "*EU_Sales : 유럽지역에서의 출고량입니다.*\n",
        "\n",
        "*JP_Sales : 일본지역에서의 출고량입니다.*\n",
        "\n",
        "*Other_Sales : 기타지역에서의 출고량입니다.*"
      ],
      "metadata": {
        "id": "H_wvjjwqBCFD"
      }
    },
    {
      "cell_type": "code",
      "execution_count": null,
      "metadata": {
        "id": "08h7TA1syJcb"
      },
      "outputs": [],
      "source": [
        "import pandas as pd\n",
        "import numpy as np\n",
        "\n",
        "data_url = \"https://ds-lecture-data.s3.ap-northeast-2.amazonaws.com/datasets/vgames2.csv\"\n",
        "games = pd.read_csv(data_url, index_col = 0)\n",
        "\n",
        "games"
      ]
    },
    {
      "cell_type": "code",
      "source": [
        "games.isnull().sum()"
      ],
      "metadata": {
        "id": "9Aqf5PtpCVBa"
      },
      "execution_count": null,
      "outputs": []
    },
    {
      "cell_type": "code",
      "source": [
        "# 결측치의 비율이 낮기 때문에 제거한다\n",
        "\n",
        "games = games.dropna()\n",
        "games"
      ],
      "metadata": {
        "id": "3RL-K1pWO6A2"
      },
      "execution_count": null,
      "outputs": []
    },
    {
      "cell_type": "code",
      "source": [
        "games = games.reset_index(drop = True)\n",
        "games"
      ],
      "metadata": {
        "id": "uUE3tU8ixbFq"
      },
      "execution_count": null,
      "outputs": []
    },
    {
      "cell_type": "code",
      "source": [
        "import seaborn as sns\n",
        "import matplotlib.pyplot as plt\n",
        "%matplotlib inline\n",
        "\n",
        "# Year column 의 이상치 여부 시각화\n",
        "\n",
        "sns.boxplot(data = games['Year'], color = 'red')\n",
        "\n",
        "plt.show"
      ],
      "metadata": {
        "id": "JSVibhz6x4PJ"
      },
      "execution_count": null,
      "outputs": []
    },
    {
      "cell_type": "code",
      "source": [
        "# Year column 에서 나타난 이상치를 정상화\n",
        "\n",
        "def Year(v):\n",
        "    if v < 30:\n",
        "        Year = v + 2000\n",
        "    elif 30 <= v < 100:\n",
        "        Year = v + 1900\n",
        "    else:\n",
        "        Year = v\n",
        "    return Year\n",
        "\n",
        "\n",
        "games[\"Year\"] = games[\"Year\"].apply(lambda v: Year(v))\n",
        "\n",
        "games"
      ],
      "metadata": {
        "id": "QgB46L7l1wDm"
      },
      "execution_count": null,
      "outputs": []
    },
    {
      "cell_type": "code",
      "source": [
        "# Sales column 에서 결과값 변경\n",
        "\n",
        "games['NA_Sales'] = games['NA_Sales'].replace({'K' : '*1e-3', 'M' : '*1'}, regex = True).map(pd.eval)\n",
        "games['EU_Sales'] = games['EU_Sales'].replace({'K' : '*1e-3', 'M' : '*1'}, regex = True).map(pd.eval)\n",
        "games['JP_Sales'] = games['JP_Sales'].replace({'K' : '*1e-3', 'M' : '*1'}, regex = True).map(pd.eval)\n",
        "games['Other_Sales'] = games['Other_Sales'].replace({'K' : '*1e-3', 'M' : '*1'}, regex = True).map(pd.eval)\n",
        "\n",
        "games"
      ],
      "metadata": {
        "id": "oxrcVivufd3R"
      },
      "execution_count": null,
      "outputs": []
    },
    {
      "cell_type": "code",
      "source": [
        "games1 = games.loc[:, ['NA_Sales', 'EU_Sales', 'JP_Sales', 'Other_Sales']]*1000\n",
        "\n",
        "games2 = pd.concat([games.loc[:,['Name', 'Platform', 'Year', 'Genre', 'Publisher']],games1], axis = 1)\n",
        "\n",
        "# 출고량의 단위를 K(1,000)으로 맞추기\n",
        "games2 "
      ],
      "metadata": {
        "id": "-wyu0G5fjsFK"
      },
      "execution_count": null,
      "outputs": []
    },
    {
      "cell_type": "code",
      "source": [
        "games2.isnull().sum()"
      ],
      "metadata": {
        "id": "NcEDzTcggvxo"
      },
      "execution_count": null,
      "outputs": []
    },
    {
      "cell_type": "code",
      "source": [
        "games3 = games2.astype({'Year' : int, 'NA_Sales' : int, 'EU_Sales' : int, 'JP_Sales' : int, 'Other_Sales' : int})\n",
        "\n",
        "games3"
      ],
      "metadata": {
        "id": "KpT3RObWgjd8"
      },
      "execution_count": null,
      "outputs": []
    },
    {
      "cell_type": "code",
      "source": [
        "games3.info()"
      ],
      "metadata": {
        "id": "glolQUaP-EYj"
      },
      "execution_count": null,
      "outputs": []
    },
    {
      "cell_type": "markdown",
      "source": [
        "# Sales Columns IQR 활용"
      ],
      "metadata": {
        "id": "q-mfrlzIP-G8"
      }
    },
    {
      "cell_type": "code",
      "source": [
        "# IQR을 활용 하지 않을 데이터 미리 복사해두기\n",
        "\n",
        "games4 = games2.copy()\n",
        "\n",
        "games4['Total_Sales'] = games4['NA_Sales'] + games4['EU_Sales'] + games4['JP_Sales'] + games4['Other_Sales']\n",
        "\n",
        "games4 = games4.astype({'Year' : int, 'NA_Sales' : int, 'EU_Sales' : int, 'JP_Sales' : int, 'Other_Sales' : int, 'Total_Sales' : int})\n",
        "\n",
        "games4"
      ],
      "metadata": {
        "id": "qo0lJdSSOwWH"
      },
      "execution_count": null,
      "outputs": []
    },
    {
      "cell_type": "code",
      "source": [
        "# IQR 분석\n",
        "\n",
        "NA_plt = games3.plot(kind = 'box', x = 'Year', y = 'NA_Sales')\n",
        "EU_plt = games3.plot(kind = 'box', x = 'Year', y = 'EU_Sales')\n",
        "JP_plt = games3.plot(kind = 'box', x = 'Year', y = 'JP_Sales')\n",
        "Ot_plt = games3.plot(kind = 'box', x = 'Year', y = 'Other_Sales')\n",
        "print(NA_plt, EU_plt, JP_plt, Ot_plt)"
      ],
      "metadata": {
        "id": "cOp_LbqNQGZm"
      },
      "execution_count": null,
      "outputs": []
    },
    {
      "cell_type": "markdown",
      "source": [
        " 위 boxplot 들을 보면 이상치가 많고 크게 나타 난다는 것을 알 수 있다."
      ],
      "metadata": {
        "id": "JhDfRV0f3s-N"
      }
    },
    {
      "cell_type": "code",
      "source": [
        "games3['NA_Sales'].describe()"
      ],
      "metadata": {
        "id": "ugjzLGANUFLT"
      },
      "execution_count": null,
      "outputs": []
    },
    {
      "cell_type": "code",
      "source": [
        "NA1 = games3['NA_Sales'].quantile(0.25)\n",
        "NA2 = games3['NA_Sales'].quantile(0.75)\n",
        "NA_iqr = NA2 - NA1\n",
        "NA_iqr"
      ],
      "metadata": {
        "id": "imW4MRU1UYBL"
      },
      "execution_count": null,
      "outputs": []
    },
    {
      "cell_type": "code",
      "source": [
        "# NA_Sales 의 이상치 IQR 최대값으로 변환\n",
        "\n",
        "def Sales(x):\n",
        "    if x > NA2 + NA_iqr * 1.5:\n",
        "        Sales = NA2 + NA_iqr * 1.5\n",
        "    else:\n",
        "        Sales = x\n",
        "    return Sales\n",
        "\n",
        "games3['NA_Sales'] = games3['NA_Sales'].apply(lambda x: Sales(x))\n",
        "\n",
        "games3['NA_Sales'].value_counts()"
      ],
      "metadata": {
        "id": "b-jgab2BVFrQ"
      },
      "execution_count": null,
      "outputs": []
    },
    {
      "cell_type": "code",
      "source": [
        "# 이외 Sales 이상치 변환\n",
        "\n",
        "EU1 = games3['EU_Sales'].quantile(0.25)\n",
        "EU2 = games3['EU_Sales'].quantile(0.75)\n",
        "EU_iqr = EU2 - EU1\n",
        "\n",
        "JP1 = games3['JP_Sales'].quantile(0.25)\n",
        "JP2 = games3['JP_Sales'].quantile(0.75)\n",
        "JP_iqr = JP2 - JP1\n",
        "\n",
        "Ot1 = games3['Other_Sales'].quantile(0.25)\n",
        "Ot2 = games3['Other_Sales'].quantile(0.75)\n",
        "Ot_iqr = Ot2 - Ot1\n",
        "\n",
        "EU_iqr, JP_iqr, Ot_iqr"
      ],
      "metadata": {
        "id": "GdVwKsrBaWNs"
      },
      "execution_count": null,
      "outputs": []
    },
    {
      "cell_type": "code",
      "source": [
        "def Sales(x):\n",
        "    if x > EU2 + EU_iqr * 1.5:\n",
        "        Sales = EU2 + EU_iqr * 1.5\n",
        "    else:\n",
        "        Sales = x\n",
        "    return Sales\n",
        "\n",
        "games3['EU_Sales'] = games3['EU_Sales'].apply(lambda x: Sales(x))\n",
        "\n",
        "games3['EU_Sales'].value_counts()"
      ],
      "metadata": {
        "id": "71l22ebXbE_A"
      },
      "execution_count": null,
      "outputs": []
    },
    {
      "cell_type": "code",
      "source": [
        "def Sales(x):\n",
        "    if x > JP2 + JP_iqr * 1.5:\n",
        "        Sales = JP2 + JP_iqr * 1.5\n",
        "    else:\n",
        "        Sales = x\n",
        "    return Sales\n",
        "\n",
        "games3['JP_Sales'] = games3['JP_Sales'].apply(lambda x: Sales(x))\n",
        "\n",
        "games3['JP_Sales'].value_counts()"
      ],
      "metadata": {
        "id": "8Ge6aNtfbqy1"
      },
      "execution_count": null,
      "outputs": []
    },
    {
      "cell_type": "code",
      "source": [
        "def Sales(x):\n",
        "    if x > Ot2 + Ot_iqr * 1.5:\n",
        "        Sales = Ot2 + Ot_iqr * 1.5\n",
        "    else:\n",
        "        Sales = x\n",
        "    return Sales\n",
        "\n",
        "games3['Other_Sales'] = games3['Other_Sales'].apply(lambda x: Sales(x))\n",
        "\n",
        "games3['Other_Sales'].value_counts()"
      ],
      "metadata": {
        "id": "uYJTZ0yIb20B"
      },
      "execution_count": null,
      "outputs": []
    },
    {
      "cell_type": "code",
      "source": [
        "games3.describe()"
      ],
      "metadata": {
        "id": "gLx5tbelcADI"
      },
      "execution_count": null,
      "outputs": []
    },
    {
      "cell_type": "code",
      "source": [
        "games3"
      ],
      "metadata": {
        "id": "tj8brkrfcSzU"
      },
      "execution_count": null,
      "outputs": []
    },
    {
      "cell_type": "code",
      "source": [
        "games3 = games3.astype({'NA_Sales' : int, 'EU_Sales' : int, 'JP_Sales' : int, 'Other_Sales' : int})\n",
        "\n",
        "games3.info()"
      ],
      "metadata": {
        "id": "0oS6qJfF7IF3"
      },
      "execution_count": null,
      "outputs": []
    },
    {
      "cell_type": "code",
      "source": [
        "# 앞으로 총 판매량이 필요하다고 생각했기 때문에 총 판매량 column 을 생성한다\n",
        "\n",
        "games3['Total_Sales'] = games3['NA_Sales'] + games3['EU_Sales'] + games3['JP_Sales'] + games3['Other_Sales']\n",
        "\n",
        "games3"
      ],
      "metadata": {
        "id": "abIMdS886BMc"
      },
      "execution_count": null,
      "outputs": []
    },
    {
      "cell_type": "markdown",
      "source": [
        "# 지역에 따라서 선호하는 게임 장르가 다를까"
      ],
      "metadata": {
        "id": "6ozue6x5vkpf"
      }
    },
    {
      "cell_type": "markdown",
      "source": [
        "1. groupby 를 사용해서 데이터를 만들고 시각화 해보자"
      ],
      "metadata": {
        "id": "FVA8rzFzpRMB"
      }
    },
    {
      "cell_type": "code",
      "source": [
        "# 장르별 총 판매량 합산\n",
        "\n",
        "TO_genre = games3.groupby(by=['Genre'])['Total_Sales'].sum()\n",
        "TO_genre = TO_genre.reset_index()\n",
        "\n",
        "# 장르별 북미 판매량 합산\n",
        "\n",
        "NA_genre = games3.groupby(by = ['Genre'])['NA_Sales'].sum()\n",
        "NA_genre = NA_genre.reset_index()\n",
        "\n",
        "# 장르별 유럽 판매량 합산\n",
        "\n",
        "EU_genre = games3.groupby(by = ['Genre'])['EU_Sales'].sum()\n",
        "EU_genre = EU_genre.reset_index()\n",
        "\n",
        "# 장르별 일본 판매량 합산\n",
        "\n",
        "JP_genre = games3.groupby(by = ['Genre'])['JP_Sales'].sum()\n",
        "JP_genre = JP_genre.reset_index()\n",
        "\n",
        "# 장르별 기타지역 판매량 합산\n",
        "\n",
        "OT_genre = games3.groupby(by = ['Genre'])['Other_Sales'].sum()\n",
        "OT_genre = OT_genre.reset_index()\n",
        "\n",
        "# 각 값들을 덮어씌워서 조합한다\n",
        "\n",
        "TO_genre = TO_genre.combine_first(NA_genre).combine_first(EU_genre).combine_first(JP_genre).combine_first(OT_genre)\n",
        "TO_genre = TO_genre.set_index('Genre')"
      ],
      "metadata": {
        "id": "c2SI3Jt-yOX4"
      },
      "execution_count": null,
      "outputs": []
    },
    {
      "cell_type": "code",
      "source": [
        "%config InlineBackend.figure_format = 'retina' # 해상도를 높여줌\n",
        "\n",
        "sns.set(style = 'darkgrid')\n",
        "plt.figure(figsize = (20, 15))\n",
        "plt.title('Game Genre Preference by Continent', fontsize = 40)\n",
        "plt.xlabel('Game Genre', fontsize = 25)\n",
        "plt.ylabel('Total Sales', fontsize = 25)\n",
        "\n",
        "sns.lineplot(data = TO_genre, markers = True);"
      ],
      "metadata": {
        "id": "5tXIbxl1-RUp"
      },
      "execution_count": null,
      "outputs": []
    },
    {
      "cell_type": "markdown",
      "source": [
        "- 일본을 제외한 모든 지역이 1순위, 2순위, 3순위 가 같으며 일본만 다른 형태를 보인다\n",
        "\n",
        "- 타 지역의 경우에는 1순위 Action, 2순위 Sports, 3순위 Shooter 로 동일하게 나온다\n",
        "\n",
        "- 일본의 경우에는 Role-Playing 게임이 1순위로 타 지역들의 순위가 한 단계씩 떨어져서 나타난다"
      ],
      "metadata": {
        "id": "FGWTuOZ2BHO7"
      }
    },
    {
      "cell_type": "markdown",
      "source": [
        "2. 테이블셋을 만들고 녹여서 분석하는 방법으로 시각화 해보자"
      ],
      "metadata": {
        "id": "lEs2fhBtp50V"
      }
    },
    {
      "cell_type": "code",
      "source": [
        "# 다른 방식의 시각화 방법을 해보자\n",
        "\n",
        "sales = games3[['Genre', 'NA_Sales', 'EU_Sales', 'JP_Sales', 'Other_Sales', 'Total_Sales']]\n",
        "sales_grouped = sales.groupby(['Genre']).sum()\n",
        "sales_table = sales_grouped.reset_index()\n",
        "\n",
        "sales_table"
      ],
      "metadata": {
        "id": "gsrTP4sXAi4p"
      },
      "execution_count": null,
      "outputs": []
    },
    {
      "cell_type": "code",
      "source": [
        "sales_melted = pd.melt(sales_table, id_vars = ['Genre'], value_vars = sales_table.columns[1:],\n",
        "                      var_name = 'Country', value_name = 'Sales')\n",
        "sales_melted.head(10)"
      ],
      "metadata": {
        "id": "dBDuGl2rR0E8"
      },
      "execution_count": null,
      "outputs": []
    },
    {
      "cell_type": "code",
      "source": [
        "plt.figure(figsize = (20, 15))\n",
        "sns.barplot(data = sales_melted, x = 'Genre', y = 'Sales', hue = 'Country')  # Bar Plot 의 형태로 장르별 차이를 명확하게 볼 수 있다\n",
        "plt.title('Game Genre Preference by Continent', loc = 'center', fontsize = 40)\n",
        "plt.legend(fontsize = 25)\n",
        "plt.show()"
      ],
      "metadata": {
        "id": "mACgxbtbSrz-"
      },
      "execution_count": null,
      "outputs": []
    },
    {
      "cell_type": "markdown",
      "source": [
        "- Barplot 를 사용해서 분석했다\n",
        "\n",
        "- 위와 같은 결과가 나타난다"
      ],
      "metadata": {
        "id": "43lQjbwPsMNC"
      }
    },
    {
      "cell_type": "code",
      "source": [
        "# 지역별 판매량 TOP3만 따로 보자\n",
        "\n",
        "def Top_genre(games3, s_column):\n",
        "    Top_games = games3.loc[:, ['Genre', s_column]].sort_values(by = s_column, ascending = False).reset_index(drop = True).head(3) # 내림차순으로 정리한다\n",
        "    Top_games.columns = ['Genre', 'Sales']\n",
        "    return Top_games\n",
        "\n",
        "NA_Top_genre = Top_genre(sales_table, 'NA_Sales')\n",
        "EU_Top_genre = Top_genre(sales_table, 'EU_Sales')\n",
        "JP_Top_genre = Top_genre(sales_table, 'JP_Sales')\n",
        "OT_Top_genre = Top_genre(sales_table, 'Other_Sales')\n",
        "TO_Top_genre = Top_genre(sales_table, 'Total_Sales')\n",
        "\n",
        "Top_list = [NA_Top_genre, EU_Top_genre, JP_Top_genre, OT_Top_genre, TO_Top_genre]\n",
        "\n",
        "columns_list = sales_table.columns[1:]\n",
        "\n",
        "Top_list, columns_list"
      ],
      "metadata": {
        "id": "HBiYJdP1UPTb"
      },
      "execution_count": null,
      "outputs": []
    },
    {
      "cell_type": "code",
      "source": [
        "fig, axs = plt.subplots(figsize=(30, 8), nrows=1, ncols=5)\n",
        "\n",
        "for col, i, data in zip(columns_list, range(len(columns_list)), Top_list):\n",
        "    axs[i].set_title(col + ' ' + 'TOP3', fontsize = 20)\n",
        "    sns.barplot(x = 'Genre', y = 'Sales', data = data, ax = axs[i])\n",
        "    axs[i].set_xlabel('Genre', fontsize = 15)\n",
        "    axs[i].set_ylabel('Sales', fontsize = 10)\n",
        "\n",
        "plt.show()"
      ],
      "metadata": {
        "id": "Tch1zSNvwnnL"
      },
      "execution_count": null,
      "outputs": []
    },
    {
      "cell_type": "markdown",
      "source": [
        "- TOP3 의 장르들만 추려 보았다\n",
        "\n",
        "- 일본을 제외한 모든 지역들의 선호 순서는 같다"
      ],
      "metadata": {
        "id": "RluOfaiCx1mX"
      }
    },
    {
      "cell_type": "markdown",
      "source": [
        "# 연도별 게임의 트렌드가 있을까"
      ],
      "metadata": {
        "id": "L10l-64dsgNj"
      }
    },
    {
      "cell_type": "code",
      "source": [
        "year_genre = games3.groupby(['Year','Genre'])['Total_Sales'].sum().reset_index()\n",
        "\n",
        "year_genre"
      ],
      "metadata": {
        "id": "zXRDz8vLx_1R"
      },
      "execution_count": null,
      "outputs": []
    },
    {
      "cell_type": "code",
      "source": [
        "# 연도별 최고 판매량을 기록한 장르를 찾아보자\n",
        "\n",
        "year_sales = year_genre.groupby(['Year'])['Total_Sales'].transform(max) == year_genre['Total_Sales']\n",
        "year_sales_max = year_genre[year_sales].reset_index(drop=True)\n",
        "\n",
        "year_sales_max.head(10)"
      ],
      "metadata": {
        "id": "K9BjzAw53nlo"
      },
      "execution_count": null,
      "outputs": []
    },
    {
      "cell_type": "code",
      "source": [
        "max_genre = year_sales_max['Genre'].values # 연도별 최고 장르만 뽑아둔다\n",
        "\n",
        "max_genre"
      ],
      "metadata": {
        "id": "hYlR6i2Y4_fA"
      },
      "execution_count": null,
      "outputs": []
    },
    {
      "cell_type": "code",
      "source": [
        "plt.figure(figsize = (30, 12))\n",
        "p = sns.barplot(x = 'Year', y = 'Total_Sales', data = year_sales_max)\n",
        "index = 0\n",
        "\n",
        "for value in year_sales_max['Total_Sales']:\n",
        "  p.text(index, value + 1, str(max_genre[index] + ' -- ' + str(value)), color = 'grey', size = 12, rotation = 65, ha = 'center') # Text 를 정방향으로 하면 겹치기 때문에 안겹치는 선인 65도 돌렸고, horizontal align 을 center 로 해서 중심축을 가운데에 둔다\n",
        "  index += 1\n",
        "\n",
        "plt.title('Best Game Genre of the Year', fontsize = 30)\n",
        "plt.xlabel('Year', fontsize = 15)\n",
        "plt.ylabel('Total Sales Value', fontsize = 15)\n",
        "\n",
        "plt.show()"
      ],
      "metadata": {
        "id": "YWwGlnPG7Rkt"
      },
      "execution_count": null,
      "outputs": []
    },
    {
      "cell_type": "markdown",
      "source": [
        "- 연도별 게임의 트렌드는 존재한다\n",
        "\n",
        "- 2000년대에 들어서 Action 장르가 강세를 나타냈다\n",
        "\n",
        "- 또한 1996년을 기점으로 게임산업이 성장했지만 13년을 기점으로 하향세를 보인다"
      ],
      "metadata": {
        "id": "92ZhFWU9A8qE"
      }
    },
    {
      "cell_type": "markdown",
      "source": [
        "# 출고량이 높은 게임에 대한 분석 및 시각화 프로세스"
      ],
      "metadata": {
        "id": "mjMZAlFT17wK"
      }
    },
    {
      "cell_type": "code",
      "source": [
        "best_games = games3.sort_values(['Total_Sales'], ascending = False) # Total Sales 를 내림차순으로 정렬한다\n",
        "\n",
        "best_games20 = best_games.head(20)\n",
        "\n",
        "best_games20 = best_games20[['Name', 'Platform', 'Genre', 'Total_Sales']].reset_index(drop = True)\n",
        "\n",
        "best_games20"
      ],
      "metadata": {
        "id": "RIvK8cSJBhNx"
      },
      "execution_count": null,
      "outputs": []
    },
    {
      "cell_type": "markdown",
      "source": [
        "- Total Sales 를 보면 동일하다\n",
        "\n",
        "- 이상치를 균일화 했기 때문이라고 판단되기 때문에 이상치를 건드리지 않는 데이터를 사용한다\n",
        "\n",
        "- 미리 만들어둔 games4 데이터를 활용한다"
      ],
      "metadata": {
        "id": "y7BV8RWqMBaD"
      }
    },
    {
      "cell_type": "code",
      "source": [
        "best_games1 = games4.sort_values(['Total_Sales'], ascending = False)\n",
        "\n",
        "best20_games = best_games1.head(20)\n",
        "\n",
        "best20_games = best20_games[['Name', 'Platform', 'Genre', 'Publisher', 'Total_Sales']].reset_index(drop = True)\n",
        "\n",
        "Ranking = ['No.' + str(x) for x in range(1, 21)]\n",
        "\n",
        "best20_games['Ranking'] = Ranking\n",
        "\n",
        "best20_games"
      ],
      "metadata": {
        "id": "s_LFgjqwOr4c"
      },
      "execution_count": null,
      "outputs": []
    },
    {
      "cell_type": "markdown",
      "source": [
        "- games4 데이터를 사용한 경우 Wii Sports 가 가장 높은 판매량을 나타내고 있었다\n",
        "\n",
        "- 출고량이 높은 게임에 대해서는 앞으로 games4 데이터를 기반으로 한 데이터를 사용하도록 한다"
      ],
      "metadata": {
        "id": "n0onVNr_P-Ko"
      }
    },
    {
      "cell_type": "code",
      "source": [
        "plt.figure(figsize = (30,10))\n",
        "R = sns.barplot(x = 'Ranking', y = 'Total_Sales', data = best20_games)\n",
        "i = 0\n",
        "for Name, Platform, Genre, Publisher, Sales in zip(best20_games.Name, best20_games.Platform, best20_games.Genre, best20_games.Publisher, best20_games.Total_Sales):\n",
        "    R.text(x = i, y = Sales + 10, s = (Name), color = 'black', rotation = 45, ha = 'center', fontsize = 15)                       # 타이틀명이 겹쳐서 보이기 때문에 각도를 틀었다\n",
        "    R.text(x = i, y = Sales - 10000, s = ('\\n' + Platform + '\\n' + Genre + '\\n' + Publisher), color = 'black', ha = 'center', fontsize = 12)\n",
        "    i+=1\n",
        "\n",
        "R.set_title('Sales Top 20 Games', fontsize = 30)\n",
        "plt.xticks(fontsize = 10)\n",
        "plt.yticks(fontsize = 10)\n",
        "plt.xlabel('Game Title', fontsize = 15)\n",
        "plt.ylabel('Sales Data', fontsize = 15)\n",
        "plt.show()"
      ],
      "metadata": {
        "id": "BJ-3gQNsQ8XP"
      },
      "execution_count": null,
      "outputs": []
    },
    {
      "cell_type": "markdown",
      "source": [
        "- Wii Sports 라는 게임이 압도적인 매출을 기록하고있다\n",
        "\n",
        "- Wii 플랫폼의 Sports 장르라는 것을 알아 볼 수 있다"
      ],
      "metadata": {
        "id": "o3hldjU2XpSN"
      }
    },
    {
      "cell_type": "markdown",
      "source": [
        "# 일정 기간 동안의 게임 순위 알아보기\n",
        "\n",
        "- 연간 Total Sales Data 를 시각화 해서 판매량이 좋던 시기를 알아보자"
      ],
      "metadata": {
        "id": "YtUIGOTeokab"
      }
    },
    {
      "cell_type": "code",
      "source": [
        "games_sales_data = games4.groupby('Year').sum()\n",
        "\n",
        "sns.set(style = 'darkgrid')\n",
        "plt.figure(figsize = (20, 10))\n",
        "plt.title('Total Sales Data of the Year', fontsize = 30)\n",
        "plt.xlabel('Year', fontsize = 20)\n",
        "plt.ylabel('Total Sales', fontsize = 20)\n",
        "\n",
        "sns.lineplot(data = games_sales_data, markers = True);"
      ],
      "metadata": {
        "id": "mSmBvfR0VJoh"
      },
      "execution_count": null,
      "outputs": []
    },
    {
      "cell_type": "markdown",
      "source": [
        "- 위에서 볼 수 있듯, 2002 ~ 2012 년 사이의 데이터가 가장 고평가 되는 구간인 것을 알 수 있다\n",
        "\n",
        "- 북미 시장이 가장 큰 시장이라는 것을 알 수 있다\n",
        "\n",
        "- 2008년의 Total Sales 가 가장 많은데, 북미시장의 점유율은 50%를 넘겼다는 것을 알 수 있다\n",
        "\n",
        "- 2002년 부터 2012년 까지의 데이터를 이용해 게임 판매량 순위를 알아보자"
      ],
      "metadata": {
        "id": "HE_lWqu2YJuY"
      }
    },
    {
      "cell_type": "code",
      "source": [
        "# 2012년까지의 순위를 먼저 구한다\n",
        "\n",
        "year_sales_top10 = games4[games4.Year <= 2012].sort_values('Total_Sales', ascending = False)\n",
        "\n",
        "# 위의 값에서 2002년 부터로 재 조정한다\n",
        "\n",
        "year_sales_top10 = year_sales_top10[year_sales_top10.Year >= 2002].sort_values('Total_Sales', ascending = False).head(10)\n",
        "\n",
        "year_sales_top10 = year_sales_top10[['Name', 'Platform', 'Year', 'Genre', 'Publisher', 'Total_Sales']].reset_index(drop = True)\n",
        "\n",
        "# Ranking 값이 20위였으니 10위 단위로 새로 짜준다\n",
        "\n",
        "Ranking_10 = ['No.' + str(x) for x in range(1, 11)]\n",
        "year_sales_top10['Ranking'] = Ranking_10\n",
        "\n",
        "year_sales_top10"
      ],
      "metadata": {
        "id": "OH3rYPXIXogZ"
      },
      "execution_count": null,
      "outputs": []
    },
    {
      "cell_type": "code",
      "source": [
        "plt.figure(figsize = (30,10))\n",
        "R1 = sns.barplot(x = 'Ranking', y = 'Total_Sales', data = year_sales_top10)\n",
        "i = 0\n",
        "for Name, Platform, Year, Genre, Publisher, Sales in zip(year_sales_top10.Name, year_sales_top10.Platform, year_sales_top10.Year, year_sales_top10.Genre, year_sales_top10.Publisher, year_sales_top10.Total_Sales):\n",
        "    R1.text(x = i, y = Sales + 10, s = (Name), color = 'black', ha = 'center', fontsize = 15)\n",
        "    R1.text(x = i, y = Sales - 10000, s = (Platform + '\\n' + str(Year) + 'year' + '\\n' + Genre + '\\n' + Publisher), color = 'black', ha = 'center', fontsize = 12)\n",
        "    i+=1\n",
        "\n",
        "R1.set_title('Top10 Games during 2002 - 2012 Season', fontsize = 30)\n",
        "plt.xticks(fontsize = 10)\n",
        "plt.yticks(fontsize = 10)\n",
        "plt.xlabel('Game Title', fontsize = 15)\n",
        "plt.ylabel('Sales Data', fontsize = 15)\n",
        "plt.show()"
      ],
      "metadata": {
        "id": "PVLCp9Wnp_F6"
      },
      "execution_count": null,
      "outputs": []
    },
    {
      "cell_type": "markdown",
      "source": [
        "- 위 분석으로 보면 전체 기간에서 나왔던 Super Mario Bros 는 옛날 게임이란 것을 알 수 있다\n",
        "\n",
        "- 전체 자료와 위 기간 자료를 본 결과 닌텐도 게임은 항상 잘 된다고 볼 수 있다"
      ],
      "metadata": {
        "id": "WhIBExMdr9W3"
      }
    },
    {
      "cell_type": "markdown",
      "source": [
        "- 최근 10년 간의 Top 5 게임만을 찾아보자\n",
        "\n",
        "- 위 데이터의 마지막 구간이 2020 년으로 나오지만 2022년 현재를 기준으로 10년 기간을 잡는다"
      ],
      "metadata": {
        "id": "MTUOGvhUwCac"
      }
    },
    {
      "cell_type": "code",
      "source": [
        "last10_year_top5 = games4[games4.Year >= 2013].sort_values('Total_Sales', ascending = False).head(5)\n",
        "\n",
        "last10_year_top5 = last10_year_top5[['Name', 'Platform', 'Year', 'Genre', 'Publisher', 'Total_Sales']].reset_index(drop = True)\n",
        "\n",
        "Ranking_5 = ['No.' + str(x) for x in range(1, 6)]\n",
        "\n",
        "last10_year_top5['Ranking'] = Ranking_5\n",
        "\n",
        "last10_year_top5"
      ],
      "metadata": {
        "id": "ZjYZbeXzuWcG"
      },
      "execution_count": null,
      "outputs": []
    },
    {
      "cell_type": "code",
      "source": [
        "plt.figure(figsize = (20,10))\n",
        "R2 = sns.barplot(x = 'Ranking', y = 'Total_Sales', data = last10_year_top5)\n",
        "i = 0\n",
        "for Name, Platform, Year, Genre, Publisher, Sales in zip(last10_year_top5.Name, last10_year_top5.Platform, last10_year_top5.Year, last10_year_top5.Genre, last10_year_top5.Publisher, last10_year_top5.Total_Sales):\n",
        "    R2.text(x = i, y = Sales + 10, s = (Name), color = 'black', ha = 'center', fontsize = 15)\n",
        "    R2.text(x = i, y = Sales - 10000, s = (Platform + '\\n' + str(Year) + 'year' + '\\n' + Genre + '\\n' + Publisher), color = 'black', ha = 'center', fontsize = 12)\n",
        "    i+=1\n",
        "\n",
        "R2.set_title('Last 10 Years TOP 5 Games', fontsize = 30)\n",
        "plt.xticks(fontsize = 10)\n",
        "plt.yticks(fontsize = 10)\n",
        "plt.xlabel('Game Title', fontsize = 15)\n",
        "plt.ylabel('Sales Data', fontsize = 15)\n",
        "plt.show()"
      ],
      "metadata": {
        "id": "iLKWFls2wX00"
      },
      "execution_count": null,
      "outputs": []
    },
    {
      "cell_type": "markdown",
      "source": [
        "- 최근 10년 간의 게임은 PS 시리즈의 플랫폼이 강세를 나타낸다\n",
        "\n",
        "- Grand Theft Auto V 가 다른 플랫폼으로  1, 2, 4순위에 오른 것으로 보아 압도적인 판매량이 예상된다\n",
        "\n",
        "- Nintendo 의 게임은 포켓몬 시리즈가 유일하다"
      ],
      "metadata": {
        "id": "Ypwb3dfkw75s"
      }
    },
    {
      "cell_type": "markdown",
      "source": [
        "# 플랫폼에 대한 분석을 해보자\n",
        "\n",
        "- 전체 기간 동안에 대한 지역별 플랫폼 판매량을 시각화한다\n",
        "\n",
        "- 어떤 플랫폼에서의 판매량이 좋은지를 알아본다"
      ],
      "metadata": {
        "id": "Wl7YprmGn6XF"
      }
    },
    {
      "cell_type": "code",
      "source": [
        "# 지역별 플랫폼 판매량 분석 - Total 판매량과 함께 비교\n",
        "\n",
        "platform_sales = games4[['Platform', 'NA_Sales', 'EU_Sales', 'JP_Sales', 'Other_Sales', 'Total_Sales']]\n",
        "platform_sales1 = platform_sales.groupby('Platform').sum()\n",
        "platform_sales2 = platform_sales1.reset_index()\n",
        "platform_sales3 = pd.melt(platform_sales2, id_vars = ['Platform'], value_vars = platform_sales.columns[1:], var_name = 'Continent', value_name = 'Sales')\n",
        "\n",
        "plt.figure(figsize=(25,10))\n",
        "pt = sns.barplot(x = 'Platform', y = 'Sales', hue = 'Continent', data = platform_sales3)\n",
        "pt.set_title('Sales Data by Platform', fontsize = 25)\n",
        "pt.legend(fontsize = 20)\n",
        "plt.xticks(fontsize = 10)\n",
        "plt.yticks(fontsize = 10)\n",
        "plt.xlabel('Platform', fontsize = 20)\n",
        "plt.ylabel('Sales', fontsize = 20)\n",
        "plt.show()"
      ],
      "metadata": {
        "id": "NjACPi-OtLBD"
      },
      "execution_count": null,
      "outputs": []
    },
    {
      "cell_type": "markdown",
      "source": [
        "- PS2가 가장 강세를 보이고 있으며 PS 시리즈가 좋은 모습을 보인다\n",
        "\n",
        "- 그 외에는 X360과 Wii, DS 등이 좋은 모습을 보인다"
      ],
      "metadata": {
        "id": "MQ54muw4qVxY"
      }
    },
    {
      "cell_type": "code",
      "source": [
        "# 최근 10년간의 지역별 플랫폼 판매량을 분석한다\n",
        "\n",
        "last10_years = games4[games4.Year >= 2013]\n",
        "\n",
        "last_platform = last10_years[['Platform', 'NA_Sales', 'EU_Sales', 'JP_Sales', 'Other_Sales', 'Total_Sales']]\n",
        "last_platform1 = last_platform.groupby('Platform').sum()\n",
        "last_platform2 = last_platform1.reset_index()\n",
        "last_platform3 = pd.melt(last_platform2, id_vars = ['Platform'], value_vars = platform_sales.columns[1:], var_name = 'Continent', value_name = 'Sales')\n",
        "\n",
        "plt.figure(figsize=(15,7))\n",
        "pt1 = sns.barplot(x = 'Platform', y = 'Sales', hue = 'Continent', data = last_platform3)\n",
        "pt1.set_title('Sales Data by Platform', fontsize = 25)\n",
        "pt1.legend(fontsize = 20)\n",
        "plt.xticks(fontsize = 10)\n",
        "plt.yticks(fontsize = 10)\n",
        "plt.xlabel('Platform', fontsize = 20)\n",
        "plt.ylabel('Sales', fontsize = 20)\n",
        "plt.show()"
      ],
      "metadata": {
        "id": "IdLwIg0FoWaa"
      },
      "execution_count": null,
      "outputs": []
    },
    {
      "cell_type": "markdown",
      "source": [
        "- 최근 10년간의 데이터를 보면 많은 플랫폼들이 사라져있다\n",
        "\n",
        "- 하지만 여기서도 PS 시리즈가 가장 강세를 보이고 있으며 X시리즈와 3DS가 좋은 모습을 보인다\n",
        "\n",
        "- 지난 자료와 비교해 보았을 때, PC게임의 시장 파이는 크게 줄어든 모습을 보인다"
      ],
      "metadata": {
        "id": "EXHu7ZibqlvT"
      }
    },
    {
      "cell_type": "code",
      "source": [
        "def top3_platform(games, sales):\n",
        "  last10_top3 = games.loc[:, ['Platform', sales]].sort_values(by = sales, ascending = False).reset_index(drop = True).head(3)\n",
        "  last10_top3.columns = ['Platform', 'Sales']\n",
        "  return last10_top3\n",
        "\n",
        "NA_10y3t = top3_platform(last_platform2, 'NA_Sales')\n",
        "EU_10y3t = top3_platform(last_platform2, 'EU_Sales')\n",
        "JP_10y3t = top3_platform(last_platform2, 'JP_Sales')\n",
        "OT_10y3t = top3_platform(last_platform2, 'Other_Sales')\n",
        "TO_10y3t = top3_platform(last_platform2, 'Total_Sales')\n",
        "\n",
        "platform_list = [NA_10y3t, EU_10y3t, JP_10y3t, OT_10y3t, TO_10y3t]\n",
        "pt_columns_list = last_platform.columns[1:]\n",
        "\n",
        "fig, axs = plt.subplots(figsize = (30, 7), nrows = 1, ncols = 5)\n",
        "for col, i, data in zip(pt_columns_list, range(len(pt_columns_list)), platform_list):\n",
        "    axs[i].set_title(col + ' ' + 'TOP 3', fontsize = 20)\n",
        "    sns.barplot(x = 'Platform', y = 'Sales', data = data, ax = axs[i])\n",
        "    axs[i].tick_params(labelsize = 12)\n",
        "    axs[i].set_xlabel('Platform', fontsize = 12)\n",
        "    axs[i].set_ylabel('Sales', fontsize = 12)\n",
        "    \n",
        "plt.show()"
      ],
      "metadata": {
        "id": "GgT_U2E8rFmE"
      },
      "execution_count": null,
      "outputs": []
    },
    {
      "cell_type": "markdown",
      "source": [
        "- 최근 10년 간의 지역별 TOP 3 플랫폼을 찾아보았다\n",
        "\n",
        "- 일본을 제외하고 PS4가 가장 판매량이 높은 플랫폼으로 나타났다\n",
        "\n",
        "- 전체적으로는 PS 시리즈가 가장 좋은 모습을 나타내고 그 다음은 X 시리즈 플랫폼으로 보인다"
      ],
      "metadata": {
        "id": "ezSbQFwwyjmg"
      }
    },
    {
      "cell_type": "markdown",
      "source": [
        "# 다음 분기에 어떤 게임을 설계해야 할까\n",
        "\n",
        "- 지금까지 과거 게임 데이터를 분석해 보았다\n",
        "\n",
        "- PC 플랫폼의 판매량은 최근 굉장히 낮아지고 있기 때문에 앞으로는 PC보다는 콘솔 플랫폼 이용이 가능한 게임을 위주로 설계하는게 좋아보인다\n",
        "\n",
        "- 데이터들을 본 결과 PS 시리즈 플랫폼과 X 시리즈 플랫폼을 이용 가능한 게임이 현재 가장 가능성이 있다고 판단된다\n",
        "\n",
        "- 지역별 선호도는 일본을 제외한 경우 다 같은 모습을 보이며 판매량 점유율에 있어서 북미, 유럽, 일본 순으로 나타나고 북미의 점유율이 40% 이상을 보이기 때문에 북미, 유럽의 게이머들에 맞는 장르를 선택하는 것이 좋아 보인다\n",
        "\n",
        "- 게임의 장르는 Action 장르가 최근 강세를 보이기에 Action 장르의 게임을 만드는 것이 가장 미래가 밝을 것이라고 판단된다\n",
        "\n",
        "- 결과적으로 우리는 PS시리즈, X시리즈의 플랫폼 이용을 우선적으로 하는 Action 장르의 게임을 설계하고 북미, 유럽 지역 문화에 맞는 게임을 방향으로 잡는 것이 가장 바람직하다고 판단된다."
      ],
      "metadata": {
        "id": "39DPvcf-2AWB"
      }
    }
  ]
}